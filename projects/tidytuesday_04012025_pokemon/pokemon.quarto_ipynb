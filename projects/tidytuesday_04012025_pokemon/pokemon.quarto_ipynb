{
  "cells": [
    {
      "cell_type": "markdown",
      "metadata": {},
      "source": [
        "---\n",
        "title: \"I built a PokeDex with R Shiny\"\n",
        "categories:\n",
        "  - \"Data Viz\"\n",
        "  - \"TidyTuesday\"\n",
        "  - \"Dashboard\"\n",
        "  - \"Shiny\"\n",
        "format: \n",
        "  html:\n",
        "    page-layout: full\n",
        "author: \"Mitch Harrison\"\n",
        "date: \"April 1, 2025\"\n",
        "#css: \"styles.css\"\n",
        "#image: \"../../images/thumbnails/projects/tidytuesday/06042024.jpg\"\n",
        "---\n",
        "\n",
        "```{html}\n",
        "<div style=\"\n",
        "  width: 100vw;\n",
        "  height: 100vh;\n",
        "  display: flex;\n",
        "  justify-content: center;\n",
        "  align-items: center;\n",
        "  border: 5px solid red;\n",
        "  margin: 0;\n",
        "  padding: 0;\n",
        "\">\n",
        "  <iframe\n",
        "    src=\"https://qmre3f-mitch0harrison.shinyapps.io/r-pokedex/\"\n",
        "    style=\"width: 90%; height: 90%; border: none;\n",
        "  \"></iframe>\n",
        "</div>\n",
        "```"
      ],
      "id": "3d54c43d"
    }
  ],
  "metadata": {
    "kernelspec": {
      "display_name": "Python 3",
      "language": "python",
      "name": "python3"
    }
  },
  "nbformat": 4,
  "nbformat_minor": 5
}